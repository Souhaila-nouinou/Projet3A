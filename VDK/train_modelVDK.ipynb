{
 "cells": [
  {
   "cell_type": "code",
   "execution_count": 20,
   "metadata": {},
   "outputs": [],
   "source": [
    "import torch\n",
    "import torchvision"
   ]
  },
  {
   "cell_type": "code",
   "execution_count": 21,
   "metadata": {},
   "outputs": [],
   "source": [
    "n_classes = 5\n",
    "batch_size = 4\n",
    "n_epochs = 5\n",
    "# path_best_model = \"VDK_model.pth\"\n",
    "path_best_model = \"imagenette_model.pth\""
   ]
  },
  {
   "cell_type": "code",
   "execution_count": 3,
   "metadata": {},
   "outputs": [
    {
     "data": {
      "text/plain": [
       "'\\npath_dataset = \"U:\\\\PROJET_3A\\\\dataset_objets\" \\nratio_train_val = 2/3\\n\\ndataset = torchvision.datasets.ImageFolder(\\n    path_dataset,\\n    torchvision.transforms.Compose([\\n        torchvision.transforms.ColorJitter(0.1, 0.1, 0.1, 0.1),\\n        torchvision.transforms.Resize(256),\\n        torchvision.transforms.CenterCrop(224),\\n        torchvision.transforms.ToTensor(),\\n        torchvision.transforms.Normalize([0.485, 0.456, 0.406], [0.229, 0.224, 0.225])\\n    ])\\n)\\n\\nn_train = int(ratio_train_val * len(dataset))\\nn_valid = len(dataset) - n_train\\n\\ntrain_dataset, valid_dataset = torch.utils.data.random_split(dataset, [n_train, n_valid])\\n\\ntrain_loader = torch.utils.data.DataLoader(\\n    train_dataset,\\n    batch_size=batch_size,\\n    shuffle=True,\\n)\\n\\nvalid_loader = torch.utils.data.DataLoader(\\n    valid_dataset,\\n    batch_size=batch_size,\\n    shuffle=True,\\n)\\n'"
      ]
     },
     "execution_count": 3,
     "metadata": {},
     "output_type": "execute_result"
    }
   ],
   "source": [
    "'''\n",
    "path_dataset = \"U:\\\\PROJET_3A\\\\dataset_objets\" \n",
    "ratio_train_val = 2/3\n",
    "\n",
    "dataset = torchvision.datasets.ImageFolder(\n",
    "    path_dataset,\n",
    "    torchvision.transforms.Compose([\n",
    "        torchvision.transforms.ColorJitter(0.1, 0.1, 0.1, 0.1),\n",
    "        torchvision.transforms.Resize(256),\n",
    "        torchvision.transforms.CenterCrop(224),\n",
    "        torchvision.transforms.ToTensor(),\n",
    "        torchvision.transforms.Normalize([0.485, 0.456, 0.406], [0.229, 0.224, 0.225])\n",
    "    ])\n",
    ")\n",
    "\n",
    "n_train = int(ratio_train_val * len(dataset))\n",
    "n_valid = len(dataset) - n_train\n",
    "\n",
    "train_dataset, valid_dataset = torch.utils.data.random_split(dataset, [n_train, n_valid])\n",
    "\n",
    "train_loader = torch.utils.data.DataLoader(\n",
    "    train_dataset,\n",
    "    batch_size=batch_size,\n",
    "    shuffle=True,\n",
    ")\n",
    "\n",
    "valid_loader = torch.utils.data.DataLoader(\n",
    "    valid_dataset,\n",
    "    batch_size=batch_size,\n",
    "    shuffle=True,\n",
    ")\n",
    "'''"
   ]
  },
  {
   "cell_type": "code",
   "execution_count": 22,
   "metadata": {},
   "outputs": [],
   "source": [
    "# path_train_dataset = \"C:\\\\Users\\\\dell\\\\projet3A\\\\new-fruit\\\\train\"\n",
    "# path_valid_dataset = \"C:\\\\Users\\\\dell\\\\projet3A\\\\new-fruit\\\\val\"\n",
    "\n",
    "path_train_dataset = \"C:\\\\Users\\\\dell\\\\Desktop\\\\proj 3A\\\\imagenette2-160\\\\train\"\n",
    "path_valid_dataset = \"C:\\\\Users\\\\dell\\\\Desktop\\\\proj 3A\\\\imagenette2-160\\\\val\"\n",
    "\n",
    "train_dataset =  torchvision.datasets.ImageFolder(\n",
    "    path_train_dataset,\n",
    "    torchvision.transforms.Compose([\n",
    "        torchvision.transforms.ColorJitter(0.1, 0.1, 0.1, 0.1),\n",
    "        torchvision.transforms.Resize(256),\n",
    "        torchvision.transforms.CenterCrop(224),\n",
    "        torchvision.transforms.ToTensor(),\n",
    "        torchvision.transforms.Normalize([0.485, 0.456, 0.406], [0.229, 0.224, 0.225])\n",
    "    ])\n",
    ")\n",
    "\n",
    "valid_dataset = torchvision.datasets.ImageFolder(\n",
    "    path_valid_dataset,\n",
    "    torchvision.transforms.Compose([\n",
    "        torchvision.transforms.ColorJitter(0.1, 0.1, 0.1, 0.1),\n",
    "        torchvision.transforms.Resize(256),\n",
    "        torchvision.transforms.CenterCrop(224),\n",
    "        torchvision.transforms.ToTensor(),\n",
    "        torchvision.transforms.Normalize([0.485, 0.456, 0.406], [0.229, 0.224, 0.225])\n",
    "    ])\n",
    ")\n",
    "\n",
    "train_loader = torch.utils.data.DataLoader(\n",
    "    train_dataset,\n",
    "    batch_size=batch_size,\n",
    "    shuffle=True,\n",
    ")\n",
    "\n",
    "valid_loader = torch.utils.data.DataLoader(\n",
    "    valid_dataset,\n",
    "    batch_size=batch_size,\n",
    "    shuffle=True,\n",
    ")"
   ]
  },
  {
   "cell_type": "code",
   "execution_count": 23,
   "metadata": {},
   "outputs": [
    {
     "name": "stderr",
     "output_type": "stream",
     "text": [
      "c:\\Python39\\lib\\site-packages\\torchvision\\models\\_utils.py:208: UserWarning: The parameter 'pretrained' is deprecated since 0.13 and may be removed in the future, please use 'weights' instead.\n",
      "  warnings.warn(\n",
      "c:\\Python39\\lib\\site-packages\\torchvision\\models\\_utils.py:223: UserWarning: Arguments other than a weight enum or `None` for 'weights' are deprecated since 0.13 and may be removed in the future. The current behavior is equivalent to passing `weights=AlexNet_Weights.IMAGENET1K_V1`. You can also use `weights=AlexNet_Weights.DEFAULT` to get the most up-to-date weights.\n",
      "  warnings.warn(msg)\n"
     ]
    }
   ],
   "source": [
    "model = torchvision.models.alexnet(pretrained=True)\n",
    "model.classifier[6] = torch.nn.Linear(in_features=model.classifier[6].in_features, out_features=n_classes)\n",
    "\n"
   ]
  },
  {
   "cell_type": "code",
   "execution_count": 24,
   "metadata": {},
   "outputs": [
    {
     "name": "stdout",
     "output_type": "stream",
     "text": [
      "epoch: 0 test accuracy: 0.951613\n",
      "epoch: 1 test accuracy: 0.927419\n",
      "epoch: 2 test accuracy: 1.000000\n",
      "epoch: 3 test accuracy: 1.000000\n",
      "epoch: 4 test accuracy: 1.000000\n"
     ]
    }
   ],
   "source": [
    "optimizer = torch.optim.SGD(model.parameters(), lr=0.001, momentum=0.9)\n",
    "\n",
    "best_accuracy = 0.0\n",
    "\n",
    "for epoch in range(n_epochs):\n",
    "    for i, (images, labels) in enumerate(train_loader) :\n",
    "        optimizer.zero_grad()\n",
    "        outputs = model(images)\n",
    "        loss = torch.nn.functional.cross_entropy(outputs, labels)\n",
    "        loss.backward()\n",
    "        optimizer.step()\n",
    "        # print('epoch %d batch %d/%d' % (epoch, (i + 1), len(train_loader)))\n",
    "\n",
    "    test_error_count = 0.0\n",
    "    for i , (images, labels) in enumerate(valid_loader):\n",
    "        outputs = model(images)    \n",
    "        test_error_count += float(torch.sum(torch.abs(labels - outputs.argmax(1))))\n",
    "\n",
    "    test_accuracy = 1.0 - float(test_error_count) / float(len(valid_dataset))\n",
    "    print('epoch: %d test accuracy: %f' % (epoch, test_accuracy))\n",
    "    if test_accuracy > best_accuracy:\n",
    "        torch.save(model.state_dict(), path_best_model)\n",
    "        best_accuracy = test_accuracy"
   ]
  }
 ],
 "metadata": {
  "kernelspec": {
   "display_name": "Python 3",
   "language": "python",
   "name": "python3"
  },
  "language_info": {
   "codemirror_mode": {
    "name": "ipython",
    "version": 3
   },
   "file_extension": ".py",
   "mimetype": "text/x-python",
   "name": "python",
   "nbconvert_exporter": "python",
   "pygments_lexer": "ipython3",
   "version": "3.9.0"
  },
  "orig_nbformat": 4,
  "vscode": {
   "interpreter": {
    "hash": "81794d4967e6c3204c66dcd87b604927b115b27c00565d3d43f05ba2f3a2cb0d"
   }
  }
 },
 "nbformat": 4,
 "nbformat_minor": 2
}
